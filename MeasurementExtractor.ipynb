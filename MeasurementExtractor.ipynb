{
 "cells": [
  {
   "cell_type": "code",
   "execution_count": 141,
   "metadata": {},
   "outputs": [],
   "source": [
    "import pandas as pd\n",
    "import numpy as np\n",
    "import re\n",
    "from parsi_io.modules.number_extractor import NumberExtractor"
   ]
  },
  {
   "cell_type": "code",
   "execution_count": 142,
   "metadata": {},
   "outputs": [],
   "source": [
    "class MeasurementExtractor:\n",
    "    extractor = NumberExtractor()\n",
    "    #loading units data and replacing \"NaN\" values with 0\n",
    "    units_dataframe = pd.read_csv(\"Units.csv\",header=None)\n",
    "    units_dataframe = units_dataframe.replace(np.nan, 0)\n",
    "\n",
    "\n",
    "    # loading pre-unit words which are used in \"pre-unit word + [decimal frachtion] + unit\" pattern.\n",
    "    preunits_dataframe = pd.read_csv(\"PreUnitWords.csv\",header=None)\n",
    "    preunits_dataframe = preunits_dataframe.transpose()\n",
    "\n",
    "\n",
    "    # loading pre-unit words which are used in \"pre-unit word + [decimal frachtion] + unit\" pattern.\n",
    "    decimal_fractions_dataframe = pd.read_csv(\"DecimalFractions.csv\",header=None)\n",
    "    decimal_fractions_dataframe = decimal_fractions_dataframe.transpose()\n",
    "\n",
    "    decimal_fractions_list = decimal_fractions_dataframe.values.tolist()\n",
    "    decimal_fractions_joined = \"|\".join(decimal_fractions_list[0])    \n",
    "\n",
    "    adjectives_dataframe = pd.read_csv(\"Adjectives.csv\",header=0)\n",
    "    pattern_3_adjectives = []\n",
    "    pattern_4_adjectives = []\n",
    "    pattern_4_adjective_to_type = {}\n",
    "    adjectives_dataframe = adjectives_dataframe.reset_index()  # make sure indexes pair with number of rows\n",
    "    for index, row in adjectives_dataframe.iterrows():\n",
    "        if row['valid for pattern 3'] == 1:\n",
    "            pattern_3_adjectives+= [row['adjective']]\n",
    "        if row['valid for pattern 4'] == 1:\n",
    "            pattern_4_adjectives+= [row['adjective']]\n",
    "            pattern_4_adjective_to_type[row['adjective']]= row['pattern 4 type']        \n",
    "    pattern_3_adjectives_joined = \"|\".join(pattern_3_adjectives)\n",
    "    pattern_4_adjectives_joined = \"|\".join(pattern_4_adjectives)\n",
    "\n",
    "    keywords_dataframe = pd.read_csv(\"Keywords.csv\",header=0)\n",
    "    \n",
    "    all_keywords = []\n",
    "    pattern_1_keywords = []\n",
    "    pattern_1_keyword_to_type = {}\n",
    "    keywords_dataframe = keywords_dataframe.reset_index()  # make sure indexes pair with number of rows\n",
    "    for index, row in keywords_dataframe.iterrows():\n",
    "        all_keywords+= [row['keyword']]\n",
    "        pattern_1_keywords+= [row['keyword']]\n",
    "        pattern_1_keyword_to_type[row['keyword']]= row['type']\n",
    "    pattern_1_keywords_joined = \"|\".join(pattern_1_keywords)\n",
    "    all_keywords_joined = \"|\".join(all_keywords)\n",
    "\n",
    "    #creating a dictionary of units which key corresponds quantity name and value corresponds list of units related to that quantity\n",
    "    units_dict = {}\n",
    "    for index, row in units_dataframe.iterrows():\n",
    "        qunantity_name = row[0]\n",
    "        quantity_units = row[1:].tolist()\n",
    "        #removing 0 values\n",
    "        quantity_units = list(filter(lambda a: a != 0, quantity_units))\n",
    "        units_dict [qunantity_name] = quantity_units\n",
    "\n",
    "\n",
    "    #joining all units sorted by length in descending order\n",
    "    all_units = []\n",
    "    for key, value in units_dict.items():\n",
    "        all_units += value\n",
    "    sorted_units = sorted(all_units, key=len, reverse = True)\n",
    "    sorted_units_joined = \"|\".join(sorted_units)\n",
    "    \n",
    "    preunits_list = preunits_dataframe.values.tolist()\n",
    "    preunits_joined = \"|\".join(preunits_list[0])\n",
    "\n",
    "    # We don't need this function anymore.\n",
    "    # a function that joins all units with or (\"|\")\n",
    "    units_joined = \"\"\n",
    "    for key, value in units_dict.items():\n",
    "        units_joined += \"|\".join(value)\n",
    "        units_joined += \"|\"\n",
    "    units_joined = units_joined[:-1]\n",
    "\n",
    "    #a dictionary to map qunatity's name from english to farsi\n",
    "    quantity_name_translator = {\n",
    "        \"length\": \"طول\",\n",
    "        \"mass\": \"وزن\",\n",
    "        \"pressure\": \"فشار\",\n",
    "        \"volume\": \"حجم\",\n",
    "        \"temperature\": \"دما\",\n",
    "        \"area\":\"مساحت\",\n",
    "        \"speed\":\"سرعت\",\n",
    "        \"force\":\"نیرو\",\n",
    "        \"energy\":\"انرژی\",\n",
    "        \"power\":\"توان\",\n",
    "        \"torque\":\"گشتاور\",\n",
    "        \"time\":\"زمان\",\n",
    "        \"density\":\"چگالی\",\n",
    "        \"frequency\":\"فرکانس\",\n",
    "        \"degree\":\"زاویه\",\n",
    "        \"acceleration\":\"شتاب\",\n",
    "        \"debi\":\"شارش جرمی\",\n",
    "        \"debi-v\":\"شارش حجمی\",\n",
    "        \"data-storage\":\"ذخیره دیجیتال\",\n",
    "        \"data-transfer\":\"انتقال داده\"    \n",
    "    }\n",
    "\n",
    "\n",
    "    # a function that gets the unit and returns corresponding quantity type in persian\n",
    "    def get_quantity_type(unit):\n",
    "        for key, value in MeasurementExtractor.units_dict.items():\n",
    "            if unit in value:\n",
    "                return MeasurementExtractor.quantity_name_translator[key]\n",
    "        return 0\n",
    "\n",
    "    def run(input_str):\n",
    "        output = match_keyword_adjective_pattern(input_str)\n",
    "        output += match_keyword_amount_pattern (input_str)\n",
    "        output += match_sole_adjecive_pattern (input_str)\n",
    "        output += match_amount_unit_pattern (input_str)\n",
    "        output += match_preunit_decimal_unit_pattern (input_str)\n",
    "        return output"
   ]
  },
  {
   "cell_type": "code",
   "execution_count": 143,
   "metadata": {},
   "outputs": [],
   "source": [
    "def match_keyword_adjective_pattern (input_str):\n",
    "    all_matches = re.findall(f'({MeasurementExtractor.all_keywords_joined})+\\s*({MeasurementExtractor.pattern_3_adjectives_joined})+',input_str)\n",
    "    \n",
    "    i = 0\n",
    "    output = [{} for sub in range(len(all_matches))]\n",
    "    for match in re.finditer(f'({MeasurementExtractor.all_keywords_joined})+\\s*({MeasurementExtractor.pattern_3_adjectives_joined})+',input_str):\n",
    "        print(match)\n",
    "        output[i]['unit'] = \"\"\n",
    "        output[i]['amount'] = \"\"\n",
    "        output[i]['marker'] = match.group()\n",
    "        output[i]['span'] = match.span()\n",
    "        i += 1\n",
    "        \n",
    "    return output"
   ]
  },
  {
   "cell_type": "code",
   "execution_count": 144,
   "metadata": {},
   "outputs": [
    {
     "name": "stdout",
     "output_type": "stream",
     "text": [
      "[]\n"
     ]
    }
   ],
   "source": [
    "input = \"رودخانه‌ای با عرض کم دیدم\"\n",
    "print(match_keyword_adjective_pattern(input))"
   ]
  },
  {
   "cell_type": "code",
   "execution_count": 145,
   "metadata": {},
   "outputs": [],
   "source": [
    "def match_keyword_amount_pattern (input_str):\n",
    "    values = MeasurementExtractor.extractor.run(input_str)\n",
    "    phrase_amount_dict = {}\n",
    "    for value in values:\n",
    "        phrase_amount_dict[value['phrase']] = value['value'] \n",
    "    phrases_joined = \"|\".join(phrase_amount_dict.keys())\n",
    "    \n",
    "    all_matches = re.findall(f'({MeasurementExtractor.pattern_1_keywords_joined})+\\s*({phrases_joined})+',input_str)\n",
    "    \n",
    "    i = 0\n",
    "    output = [{} for sub in range(len(all_matches))]\n",
    "    for match in re.finditer(f'({MeasurementExtractor.pattern_1_keywords_joined})+\\s*({phrases_joined})+',input_str):\n",
    "        output[i]['unit'] = \"\"\n",
    "        output[i]['amount'] = phrase_amount_dict[all_matches[i][1]]\n",
    "        output[i]['marker'] = match.group()\n",
    "        output[i]['span'] = match.span()\n",
    "        i += 1\n",
    "        \n",
    "    return output"
   ]
  },
  {
   "cell_type": "code",
   "execution_count": 146,
   "metadata": {},
   "outputs": [
    {
     "name": "stdout",
     "output_type": "stream",
     "text": [
      "[{'unit': '', 'amount': 4.0, 'marker': 'ضلع 4', 'span': (14, 19)}, {'unit': '', 'amount': 12.0, 'marker': 'طول 12', 'span': (31, 37)}]\n"
     ]
    }
   ],
   "source": [
    "input = \"خانه اتاقی به ضلع 4 و حیاطی با طول 12 دارد\"\n",
    "print(match_keyword_amount_pattern(input))"
   ]
  },
  {
   "cell_type": "code",
   "execution_count": 147,
   "metadata": {},
   "outputs": [],
   "source": [
    "def match_sole_adjecive_pattern (input_str):\n",
    "    all_matches = re.findall(f'({MeasurementExtractor.pattern_4_adjectives_joined})',input_str)\n",
    "    \n",
    "    i = 0\n",
    "    output = [{} for sub in range(len(all_matches))]\n",
    "    for match in re.finditer(f'({MeasurementExtractor.pattern_4_adjectives_joined})',input_str):\n",
    "        output[i]['unit'] = \"\"\n",
    "        output[i]['amount'] = \"\"\n",
    "        output[i]['marker'] = match.group()\n",
    "        output[i]['span'] = match.span()\n",
    "        i += 1\n",
    "        \n",
    "    return output"
   ]
  },
  {
   "cell_type": "code",
   "execution_count": 148,
   "metadata": {},
   "outputs": [
    {
     "name": "stdout",
     "output_type": "stream",
     "text": [
      "[{'unit': '', 'amount': '', 'marker': 'سریع', 'span': (0, 4)}]\n"
     ]
    }
   ],
   "source": [
    "input = \"سریع حرکت کرد\"\n",
    "print(match_sole_adjecive_pattern(input))"
   ]
  },
  {
   "cell_type": "code",
   "execution_count": 149,
   "metadata": {},
   "outputs": [],
   "source": [
    "\"\"\"\n",
    "A function that detects quantities which follow \"amount + unit\" pattern.\n",
    "\"\"\"\n",
    "\n",
    "def match_amount_unit_pattern (input_str):\n",
    "    values = MeasurementExtractor.extractor.run(input_str)\n",
    "    phrase_amount_dict = {}\n",
    "    for value in values:\n",
    "        phrase_amount_dict[value['phrase']] = value['value'] \n",
    "    phrases_joined = \"|\".join(phrase_amount_dict.keys())\n",
    "        \n",
    "    all_matches = re.findall(f'({phrases_joined})+\\s*({MeasurementExtractor.sorted_units_joined})+',input_str)\n",
    "    i = 0\n",
    "    output = [{} for sub in range(len(all_matches))]\n",
    "    for match in re.finditer(f'({phrases_joined})+\\s*({MeasurementExtractor.sorted_units_joined})+',input_str):\n",
    "        output[i]['type'] = MeasurementExtractor.get_quantity_type(all_matches[i][1])\n",
    "        output[i]['amount'] = phrase_amount_dict[all_matches[i][0]]\n",
    "        output[i]['unit'] = all_matches[i][1]\n",
    "        output[i]['marker'] = match.group()\n",
    "        output[i]['span'] = match.span()\n",
    "        i += 1\n",
    "        \n",
    "    return output"
   ]
  },
  {
   "cell_type": "code",
   "execution_count": 150,
   "metadata": {},
   "outputs": [
    {
     "name": "stdout",
     "output_type": "stream",
     "text": [
      "[{'type': 'طول', 'amount': 3, 'unit': 'متر', 'marker': 'سه متر', 'span': (4, 10)}, {'type': 'وزن', 'amount': 2, 'unit': 'کیلوگرم', 'marker': 'دو کیلوگرم', 'span': (19, 29)}, {'type': 'زمان', 'amount': 1, 'unit': 'ساعت', 'marker': 'یک ساعت', 'span': (41, 48)}]\n",
      "[{'type': 'ذخیره دیجیتال', 'amount': 2.0, 'unit': 'Gb', 'marker': '2 Gb', 'span': (0, 4)}]\n"
     ]
    }
   ],
   "source": [
    "# amount + unit examples:\n",
    "input = \"علی سه متر پارچه و دو کیلوگرم آرد خرید و یک ساعت صبر کرد.\"\n",
    "print(match_amount_unit_pattern(input))\n",
    "input = \"2 Gb\"\n",
    "print(match_amount_unit_pattern(input))"
   ]
  },
  {
   "cell_type": "code",
   "execution_count": 151,
   "metadata": {},
   "outputs": [],
   "source": [
    "\"\"\"\n",
    "A function that detects quantities which follow \"pre-unit words such as \"چند\" + \n",
    "                                                [decimal fractions (ده-صد-هزار و ...)] + \n",
    "                                                unit\" pattern.\n",
    "\"\"\"\n",
    "def match_preunit_decimal_unit_pattern(input_str):\n",
    "    \n",
    "    all_matches = re.findall(f'({MeasurementExtractor.preunits_joined})+\\s*({MeasurementExtractor.decimal_fractions_joined})?\\s*({MeasurementExtractor.units_joined})+',input_str)\n",
    "    i = 0\n",
    "    output = [{} for sub in range(len(all_matches))]\n",
    "    for match in re.finditer(f'({MeasurementExtractor.preunits_joined})+\\s*({MeasurementExtractor.decimal_fractions_joined})?\\s*({MeasurementExtractor.units_joined})+',input_str):\n",
    "        output[i]['type'] = MeasurementExtractor.get_quantity_type(all_matches[i][2])\n",
    "        output[i]['amount'] = ''\n",
    "        output[i]['unit'] = all_matches[i][2]\n",
    "        output[i]['marker'] = match.group()\n",
    "        output[i]['span'] = match.span()\n",
    "        i += 1\n",
    "        \n",
    "    return output"
   ]
  },
  {
   "cell_type": "code",
   "execution_count": 152,
   "metadata": {},
   "outputs": [
    {
     "name": "stdout",
     "output_type": "stream",
     "text": [
      "[{'type': 'وزن', 'amount': '', 'unit': 'تن', 'marker': 'چند صد هزار تن', 'span': (0, 14)}]\n"
     ]
    }
   ],
   "source": [
    "# pre-unit word + [decimal fraction] + unit examples:\n",
    "input = \"چند صد هزار تن گوشت وارداتی\"\n",
    "print(match_preunit_decimal_unit_pattern(input))"
   ]
  },
  {
   "cell_type": "code",
   "execution_count": 153,
   "metadata": {},
   "outputs": [
    {
     "name": "stdout",
     "output_type": "stream",
     "text": [
      "[{'type': 'سرعت', 'amount': 2, 'unit': 'فوت بر ثانیه', 'marker': 'دو فوت بر ثانیه', 'span': (0, 15)}]\n"
     ]
    }
   ],
   "source": [
    "#bug solved:\n",
    "print(match_amount_unit_pattern(\"دو فوت بر ثانیه\"))"
   ]
  },
  {
   "cell_type": "code",
   "execution_count": 154,
   "metadata": {},
   "outputs": [
    {
     "name": "stdout",
     "output_type": "stream",
     "text": [
      "[{'type': 'وزن', 'amount': 100000, 'unit': 'تن', 'marker': 'صد هزار تن', 'span': (4, 14)}, {'type': 'وزن', 'amount': '', 'unit': 'تن', 'marker': 'چند صد هزار تن', 'span': (0, 14)}]\n"
     ]
    }
   ],
   "source": [
    "input = \"چند صد هزار تن گوشت وارداتی خرید و از رودخانه‌ای به عرض کم عبور داد تا 3 کلیگرم آرد بخرد\"\n",
    "print(MeasurementExtractor.run(input))"
   ]
  }
 ],
 "metadata": {
  "interpreter": {
   "hash": "7715a419f54c4ba9091f066295a2740e8ed643bbb4249e443bc16748afed6227"
  },
  "kernelspec": {
   "display_name": "Python 3.9.7 ('mlenv')",
   "language": "python",
   "name": "python3"
  },
  "language_info": {
   "codemirror_mode": {
    "name": "ipython",
    "version": 3
   },
   "file_extension": ".py",
   "mimetype": "text/x-python",
   "name": "python",
   "nbconvert_exporter": "python",
   "pygments_lexer": "ipython3",
   "version": "3.9.7"
  },
  "orig_nbformat": 4
 },
 "nbformat": 4,
 "nbformat_minor": 2
}
